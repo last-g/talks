{
 "cells": [
  {
   "cell_type": "markdown",
   "metadata": {
    "slideshow": {
     "slide_type": "slide"
    }
   },
   "source": [
    "# How to live in the World where both Python 2 & Python 3 exists?\n",
    "\n",
    "---\n",
    "\n",
    "\n",
    "\n",
    "\n",
    "Last G, 2016\n",
    "\n",
    "\n",
    "\n",
    "[sergei.azovskov@zalando.de](mailto:sergei.azovskov@zalando.de)\n",
    "\n",
    "\n"
   ]
  },
  {
   "cell_type": "markdown",
   "metadata": {
    "slideshow": {
     "slide_type": "slide"
    }
   },
   "source": [
    "## Plan\n",
    "\n",
    " * `__future__` module\n",
    " * six module\n",
    " * `future` & `past` modules\n",
    " * tox"
   ]
  },
  {
   "cell_type": "markdown",
   "metadata": {
    "slideshow": {
     "slide_type": "slide"
    }
   },
   "source": [
    "# `__future__` module\n",
    "\n",
    "## Problem\n",
    " * Lots of incosistences in syntax and semantics between 2 and 3\n",
    "    \n",
    "## Solution\n",
    " * `from __future__ import print_function, unicode_literals, division, absolute_import`"
   ]
  },
  {
   "cell_type": "markdown",
   "metadata": {
    "slideshow": {
     "slide_type": "subslide"
    }
   },
   "source": [
    "### print_function\n",
    "\n",
    "* need to put parens around print call :(\n",
    "* more consistent interface `print(*objects, sep=' ', end='\\n', file=sys.stdout)`\n",
    "* could be used as fuction:\n"
   ]
  },
  {
   "cell_type": "code",
   "execution_count": 1,
   "metadata": {
    "collapsed": false,
    "slideshow": {
     "slide_type": "fragment"
    }
   },
   "outputs": [
    {
     "data": {
      "text/plain": [
       "['  File \"<string>\", line 2',\n",
       " '    map(print, range(4))',\n",
       " '            ^',\n",
       " 'SyntaxError: invalid syntax']"
      ]
     },
     "execution_count": 1,
     "metadata": {},
     "output_type": "execute_result"
    }
   ],
   "source": [
    "%%! \n",
    "python -c \"\n",
    "map(print, range(4))\n",
    "\""
   ]
  },
  {
   "cell_type": "code",
   "execution_count": 2,
   "metadata": {
    "collapsed": false,
    "slideshow": {
     "slide_type": "fragment"
    }
   },
   "outputs": [
    {
     "data": {
      "text/plain": [
       "['0', '1', '2', '3']"
      ]
     },
     "execution_count": 2,
     "metadata": {},
     "output_type": "execute_result"
    }
   ],
   "source": [
    "%%! \n",
    "python -c \"\n",
    "from __future__ import print_function\n",
    "map(print, range(4))\n",
    "\""
   ]
  },
  {
   "cell_type": "markdown",
   "metadata": {
    "slideshow": {
     "slide_type": "subslide"
    }
   },
   "source": [
    "#### And with lambdas"
   ]
  },
  {
   "cell_type": "code",
   "execution_count": 3,
   "metadata": {
    "collapsed": false,
    "slideshow": {
     "slide_type": "fragment"
    }
   },
   "outputs": [
    {
     "data": {
      "text/plain": [
       "['  File \"<string>\", line 2',\n",
       " '    lambda x: print(x)',\n",
       " '                  ^',\n",
       " 'SyntaxError: invalid syntax']"
      ]
     },
     "execution_count": 3,
     "metadata": {},
     "output_type": "execute_result"
    }
   ],
   "source": [
    "%%! \n",
    "python -c \"\n",
    "lambda x: print(x)\n",
    "\""
   ]
  },
  {
   "cell_type": "code",
   "execution_count": 4,
   "metadata": {
    "collapsed": false,
    "slideshow": {
     "slide_type": "fragment"
    }
   },
   "outputs": [
    {
     "data": {
      "text/plain": [
       "[]"
      ]
     },
     "execution_count": 4,
     "metadata": {},
     "output_type": "execute_result"
    }
   ],
   "source": [
    "%%! \n",
    "python -c \"\n",
    "from __future__ import print_function\n",
    "lambda x: print(x)\n",
    "\""
   ]
  },
  {
   "cell_type": "markdown",
   "metadata": {
    "slideshow": {
     "slide_type": "subslide"
    }
   },
   "source": [
    "### unicode_literals\n",
    "\n",
    "* It's 21 century you **MUST** use unicode for any text data.\n",
    "* Python have real good approach because unicode data is explicit. Use it by default"
   ]
  },
  {
   "cell_type": "code",
   "execution_count": 5,
   "metadata": {
    "collapsed": false,
    "slideshow": {
     "slide_type": "fragment"
    }
   },
   "outputs": [
    {
     "data": {
      "text/plain": [
       "[\"<type 'str'>\"]"
      ]
     },
     "execution_count": 5,
     "metadata": {},
     "output_type": "execute_result"
    }
   ],
   "source": [
    "%%!\n",
    "python -c \"\n",
    "print(type('Hello, Kitty!'))\n",
    "\""
   ]
  },
  {
   "cell_type": "code",
   "execution_count": 6,
   "metadata": {
    "collapsed": false,
    "slideshow": {
     "slide_type": "fragment"
    }
   },
   "outputs": [
    {
     "data": {
      "text/plain": [
       "[\"<type 'unicode'>\"]"
      ]
     },
     "execution_count": 6,
     "metadata": {},
     "output_type": "execute_result"
    }
   ],
   "source": [
    "%%!\n",
    "python -c \"\n",
    "from __future__ import unicode_literals\n",
    "print(type('Hello, Kitty!'))\n",
    "\""
   ]
  },
  {
   "cell_type": "code",
   "execution_count": 7,
   "metadata": {
    "collapsed": false,
    "slideshow": {
     "slide_type": "fragment"
    }
   },
   "outputs": [
    {
     "name": "stdout",
     "output_type": "stream",
     "text": [
      "That's me!\n",
      "That's me!\n",
      "That's me!\n"
     ]
    }
   ],
   "source": [
    "d = {\n",
    "    'Mario': \"That's me!\"\n",
    "}\n",
    "\n",
    "print(d['Mario'])\n",
    "print(d[str('Mario')])\n",
    "print(d[unicode('Mario')])\n"
   ]
  },
  {
   "cell_type": "markdown",
   "metadata": {
    "slideshow": {
     "slide_type": "subslide"
    }
   },
   "source": [
    "### `division`\n",
    "* integer devision and floating point division is very different\n",
    "* explicit is better than implicit"
   ]
  },
  {
   "cell_type": "code",
   "execution_count": 8,
   "metadata": {
    "collapsed": false,
    "slideshow": {
     "slide_type": "fragment"
    }
   },
   "outputs": [
    {
     "data": {
      "text/plain": [
       "['0']"
      ]
     },
     "execution_count": 8,
     "metadata": {},
     "output_type": "execute_result"
    }
   ],
   "source": [
    "%%!\n",
    "python -c \"\n",
    "print (1/2)\n",
    "\""
   ]
  },
  {
   "cell_type": "code",
   "execution_count": 9,
   "metadata": {
    "collapsed": false,
    "slideshow": {
     "slide_type": "fragment"
    }
   },
   "outputs": [
    {
     "data": {
      "text/plain": [
       "['0.5']"
      ]
     },
     "execution_count": 9,
     "metadata": {},
     "output_type": "execute_result"
    }
   ],
   "source": [
    "%%!\n",
    "python -c \"\n",
    "from __future__ import division\n",
    "print (1/2)\n",
    "\""
   ]
  },
  {
   "cell_type": "markdown",
   "metadata": {
    "slideshow": {
     "slide_type": "subslide"
    }
   },
   "source": [
    "### `absolute_import`\n",
    "* you could accidentally shadow system package, you definitely don't want it\n",
    "* or do it explicit\n",
    "* https://www.python.org/dev/peps/pep-0328/"
   ]
  },
  {
   "cell_type": "markdown",
   "metadata": {
    "slideshow": {
     "slide_type": "slide"
    }
   },
   "source": [
    "## six is 2 * 3 \n",
    "\n",
    "* fixes almost all inconsistencies in 2 and 3\n",
    "* fills the gaps"
   ]
  },
  {
   "cell_type": "markdown",
   "metadata": {
    "slideshow": {
     "slide_type": "subslide"
    }
   },
   "source": [
    "### Magic constants for checks\n",
    "* six.PY2\n",
    "* six.PY3\n",
    "* six.[integer_types string_types text_type binary_type]"
   ]
  },
  {
   "cell_type": "markdown",
   "metadata": {
    "slideshow": {
     "slide_type": "subslide"
    }
   },
   "source": [
    "### Functions for interface compatability\n",
    "* six.next\n",
    "* six.[iterkeys itervalues iteritems]\n",
    "* six.Iterator -- automatically converts definition of `.next` to `.__next__`\n",
    "* `six.with_metaclass` & `@six.add_metaclass` -- allows work with metaclasses in both languages\n",
    "* `@six.python_2_unicode_compatible` -- **REALLY** need this one or you'll have problems with error handling & debugging (but there is no for `__repr__` :( )"
   ]
  },
  {
   "cell_type": "markdown",
   "metadata": {
    "slideshow": {
     "slide_type": "subslide"
    }
   },
   "source": [
    "### Adopting features\n",
    "* `@six.wraps` -- more complatible version in `functools.wraps`, but not perfect\n",
    "* `six.raise_from` -- for cases when you wrap exception"
   ]
  },
  {
   "cell_type": "markdown",
   "metadata": {
    "slideshow": {
     "slide_type": "subslide"
    }
   },
   "source": [
    "### System package naming\n",
    "* `from six.moves.urllib import parse`\n",
    "* `from six.moves import map, filter, range` \n",
    "* `from six.moves import SimpleHTTPServer`\n"
   ]
  },
  {
   "cell_type": "markdown",
   "metadata": {
    "slideshow": {
     "slide_type": "slide"
    }
   },
   "source": [
    "### `future` & `past`\n",
    "* six is good, but covers not everything\n",
    "* contains everything from six\n",
    "* `future` contains LOTS of magic \n",
    "* `future` allows to write code in *Python 3* style but compatible with *Python 2* (**prefer it**)\n",
    "* `past` allows to write code in *Python 2* stype but compatible with *Python 3*\n",
    "* advanced version of 2to3.py\n",
    "* [Supercool documentation](http://python-future.org/compatible_idioms.html#compatible-idioms)"
   ]
  },
  {
   "cell_type": "markdown",
   "metadata": {
    "slideshow": {
     "slide_type": "subslide"
    }
   },
   "source": [
    "### Provides snippet for new files\n"
   ]
  },
  {
   "cell_type": "code",
   "execution_count": 10,
   "metadata": {
    "collapsed": false,
    "slideshow": {
     "slide_type": "fragment"
    }
   },
   "outputs": [],
   "source": [
    "from __future__ import (absolute_import, division,\n",
    "                        print_function, unicode_literals)\n",
    "from builtins import *\n",
    "\n",
    "# Now you have str, range, map, open etc. from Python 3 (even super!)"
   ]
  },
  {
   "cell_type": "markdown",
   "metadata": {
    "slideshow": {
     "slide_type": "subslide"
    }
   },
   "source": [
    "### Provides library magic\n"
   ]
  },
  {
   "cell_type": "code",
   "execution_count": 11,
   "metadata": {
    "collapsed": true,
    "slideshow": {
     "slide_type": "fragment"
    }
   },
   "outputs": [],
   "source": [
    "from future import standard_library\n",
    "standard_library.install_aliases()"
   ]
  },
  {
   "cell_type": "code",
   "execution_count": 12,
   "metadata": {
    "collapsed": true,
    "slideshow": {
     "slide_type": "fragment"
    }
   },
   "outputs": [],
   "source": [
    "from collections import UserDict, UserList, UserString\n",
    "\n",
    "import urllib.parse\n",
    "import urllib.request\n",
    "import urllib.response\n",
    "import urllib.robotparser\n",
    "import urllib.error"
   ]
  },
  {
   "cell_type": "markdown",
   "metadata": {
    "slideshow": {
     "slide_type": "subslide"
    }
   },
   "source": [
    "### External backports"
   ]
  },
  {
   "cell_type": "code",
   "execution_count": 13,
   "metadata": {
    "collapsed": true,
    "slideshow": {
     "slide_type": "fragment"
    }
   },
   "outputs": [],
   "source": [
    "import enum                       # pip install enum34\n",
    "import singledispatch             # pip install singledispatch\n",
    "import pathlib                    # pip install pathlib"
   ]
  },
  {
   "cell_type": "markdown",
   "metadata": {
    "slideshow": {
     "slide_type": "slide"
    }
   },
   "source": [
    "## Things to avoid\n",
    "* `class Foo(): pass`\n",
    "* `except Exception, e`\n"
   ]
  },
  {
   "cell_type": "markdown",
   "metadata": {
    "slideshow": {
     "slide_type": "slide"
    }
   },
   "source": [
    "## Tox\n",
    "* tool for running tests in multiple python environments\n",
    "* simple & easy to use\n",
    "* standard de facto\n",
    "* supports cpython2, cpython3, pypy, jython\n",
    "* per-enviroment configurations\n",
    "* some advanced Jenkis support\n",
    "* have few problems\n"
   ]
  },
  {
   "cell_type": "markdown",
   "metadata": {
    "slideshow": {
     "slide_type": "subslide"
    }
   },
   "source": [
    "### Very easy to start. Just place `tox.ini` to the project root \n",
    "\n",
    "```ini\n",
    "# content of: tox.ini , put in same dir as setup.py\n",
    "[tox]\n",
    "envlist = py26,py27,py34,pypy3\n",
    "[testenv]\n",
    "deps=pytest # or 'nose' or ...\n",
    "commands=py.test  # or 'nosetests' or ...\n",
    "[testenv:py27]\n",
    "deps = dateutil<2\n",
    "[testenv:py34]\n",
    "deps = dateutil\n",
    "\n",
    "```"
   ]
  },
  {
   "cell_type": "markdown",
   "metadata": {
    "slideshow": {
     "slide_type": "slide"
    }
   },
   "source": [
    "## What should all of us do?"
   ]
  },
  {
   "cell_type": "markdown",
   "metadata": {
    "slideshow": {
     "slide_type": "fragment"
    }
   },
   "source": [
    "* adjust you default template for new python file and add at least `from __future__ import ...`\n",
    "* read future module documentation\n",
    "* try to write compatible code (in most cases it's easy)"
   ]
  },
  {
   "cell_type": "markdown",
   "metadata": {
    "slideshow": {
     "slide_type": "subslide"
    }
   },
   "source": [
    "### How to convert existing codebase to compatible one?"
   ]
  },
  {
   "cell_type": "markdown",
   "metadata": {
    "slideshow": {
     "slide_type": "fragment"
    }
   },
   "source": [
    "* setup tox and try to run tests\n",
    "* iteratively use `futurize.py`. Don't try to convert one codebase at one. Choose one problem, fix, merge to upstream, setup check, repeat\n",
    "* turn on tox with multiple environments as the only way to run tests"
   ]
  },
  {
   "cell_type": "markdown",
   "metadata": {
    "slideshow": {
     "slide_type": "slide"
    }
   },
   "source": [
    "# That's all folks!"
   ]
  },
  {
   "cell_type": "markdown",
   "metadata": {
    "slideshow": {
     "slide_type": "slide"
    }
   },
   "source": [
    "## Questions?\n",
    "\n",
    "### Secret level\n",
    "* open vs io.open\n",
    "* pickle.dumps(type(None))\n",
    "* fmt = '%Y-%m-%d'; datetime.strptime('1889-10-12', fmt).strftime(fmt)\n",
    "* deepcopy(re.compile(r''))  # this bug stands in bugzilla for 5+ years"
   ]
  }
 ],
 "metadata": {
  "celltoolbar": "Slideshow",
  "kernelspec": {
   "display_name": "Python 2",
   "language": "python",
   "name": "python2"
  },
  "language_info": {
   "codemirror_mode": {
    "name": "ipython",
    "version": 2
   },
   "file_extension": ".py",
   "mimetype": "text/x-python",
   "name": "python",
   "nbconvert_exporter": "python",
   "pygments_lexer": "ipython2",
   "version": "2.7.11"
  }
 },
 "nbformat": 4,
 "nbformat_minor": 0
}
